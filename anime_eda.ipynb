{
 "cells": [
  {
   "cell_type": "code",
   "execution_count": 26,
   "metadata": {},
   "outputs": [],
   "source": [
    "import pandas as pd\n",
    "import numpy as np\n",
    "import matplotlib.pyplot as plt\n",
    "import seaborn as sns\n",
    "\n",
    "anime = pd.read_csv('./data/anime.csv')\n",
    "user = pd.read_csv('./data/rating.csv')"
   ]
  },
  {
   "cell_type": "code",
   "execution_count": 27,
   "metadata": {},
   "outputs": [],
   "source": [
    "from matplotlib import font_manager\n",
    "plt.rcParams['font.family'] = 'Malgun Gothic'"
   ]
  },
  {
   "cell_type": "markdown",
   "metadata": {},
   "source": [
    "### anime EDA"
   ]
  },
  {
   "cell_type": "code",
   "execution_count": 28,
   "metadata": {},
   "outputs": [
    {
     "name": "stdout",
     "output_type": "stream",
     "text": [
      "<class 'pandas.core.frame.DataFrame'>\n",
      "RangeIndex: 12294 entries, 0 to 12293\n",
      "Data columns (total 7 columns):\n",
      " #   Column    Non-Null Count  Dtype  \n",
      "---  ------    --------------  -----  \n",
      " 0   anime_id  12294 non-null  int64  \n",
      " 1   name      12294 non-null  object \n",
      " 2   genre     12232 non-null  object \n",
      " 3   type      12269 non-null  object \n",
      " 4   episodes  12294 non-null  object \n",
      " 5   rating    12064 non-null  float64\n",
      " 6   members   12294 non-null  int64  \n",
      "dtypes: float64(1), int64(2), object(4)\n",
      "memory usage: 672.5+ KB\n"
     ]
    }
   ],
   "source": [
    "anime.info()"
   ]
  },
  {
   "cell_type": "code",
   "execution_count": 29,
   "metadata": {},
   "outputs": [
    {
     "data": {
      "text/plain": [
       "(12294, 7)"
      ]
     },
     "execution_count": 29,
     "metadata": {},
     "output_type": "execute_result"
    }
   ],
   "source": [
    "anime.head(2)\n",
    "anime.shape"
   ]
  },
  {
   "cell_type": "markdown",
   "metadata": {},
   "source": [
    "anime 결측치 확인먼저"
   ]
  },
  {
   "cell_type": "code",
   "execution_count": 30,
   "metadata": {},
   "outputs": [
    {
     "name": "stdout",
     "output_type": "stream",
     "text": [
      "anime_id      0\n",
      "name          0\n",
      "genre        62\n",
      "type         25\n",
      "episodes      0\n",
      "rating      230\n",
      "members       0\n",
      "dtype: int64\n"
     ]
    }
   ],
   "source": [
    "print(anime.isnull().sum())"
   ]
  },
  {
   "cell_type": "code",
   "execution_count": 31,
   "metadata": {},
   "outputs": [
    {
     "name": "stdout",
     "output_type": "stream",
     "text": [
      "       anime_id                                               name  \\\n",
      "2844      33242          IS: Infinite Stratos 2 - Infinite Wedding   \n",
      "3541      33589                                      ViVid Strike!   \n",
      "6040      29765                                  Metropolis (2009)   \n",
      "6646      32695                                       Match Shoujo   \n",
      "7018      33187                                   Katsudou Shashin   \n",
      "...         ...                                                ...   \n",
      "12274     34492  Nuki Doki! Tenshi to Akuma no Sakusei Battle -...   \n",
      "12279     34491                       Sagurare Otome The Animation   \n",
      "12280     34312                                       Saimin Class   \n",
      "12282     34388                    Shikkoku no Shaga The Animation   \n",
      "12285     34399                                   Taimanin Asagi 3   \n",
      "\n",
      "                              genre     type episodes  rating  members  \n",
      "2844                            NaN  Special        1    7.15     6604  \n",
      "3541                            NaN       TV       12    6.96    12345  \n",
      "6040                            NaN    Movie        1    6.27      313  \n",
      "6646                            NaN      ONA        1    6.02      242  \n",
      "7018                            NaN    Movie        1    5.79      607  \n",
      "...                             ...      ...      ...     ...      ...  \n",
      "12274                        Hentai      OVA  Unknown     NaN      392  \n",
      "12279                        Hentai      OVA        1     NaN       79  \n",
      "12280                        Hentai      OVA  Unknown     NaN      240  \n",
      "12282                        Hentai      OVA  Unknown     NaN      195  \n",
      "12285  Demons, Hentai, Supernatural      OVA  Unknown     NaN      485  \n",
      "\n",
      "[277 rows x 7 columns]\n"
     ]
    }
   ],
   "source": [
    "print(anime[anime.isnull().any(axis=1)])"
   ]
  },
  {
   "cell_type": "code",
   "execution_count": 32,
   "metadata": {},
   "outputs": [
    {
     "name": "stdout",
     "output_type": "stream",
     "text": [
      "anime_id    0\n",
      "name        0\n",
      "genre       0\n",
      "type        0\n",
      "episodes    0\n",
      "rating      0\n",
      "members     0\n",
      "dtype: int64\n"
     ]
    },
    {
     "data": {
      "text/plain": [
       "(12017, 7)"
      ]
     },
     "execution_count": 32,
     "metadata": {},
     "output_type": "execute_result"
    }
   ],
   "source": [
    "anime = anime.dropna()\n",
    "\n",
    "# 결측치가 제거 후 확인\n",
    "print(anime.isnull().sum())\n",
    "\n",
    "anime.shape # 292개 결측치 제거확인"
   ]
  },
  {
   "cell_type": "markdown",
   "metadata": {},
   "source": [
    "### rating.csv EDA"
   ]
  },
  {
   "cell_type": "code",
   "execution_count": 33,
   "metadata": {},
   "outputs": [
    {
     "name": "stdout",
     "output_type": "stream",
     "text": [
      "<class 'pandas.core.frame.DataFrame'>\n",
      "RangeIndex: 7813737 entries, 0 to 7813736\n",
      "Data columns (total 3 columns):\n",
      " #   Column    Dtype\n",
      "---  ------    -----\n",
      " 0   user_id   int64\n",
      " 1   anime_id  int64\n",
      " 2   rating    int64\n",
      "dtypes: int64(3)\n",
      "memory usage: 178.8 MB\n"
     ]
    },
    {
     "data": {
      "text/plain": [
       "array([-1, 10,  8,  6,  9,  7,  3,  5,  4,  1,  2])"
      ]
     },
     "execution_count": 33,
     "metadata": {},
     "output_type": "execute_result"
    }
   ],
   "source": [
    "user.info()\n",
    "user.tail(10)\n",
    "user[\"rating\"].unique()"
   ]
  },
  {
   "cell_type": "code",
   "execution_count": 34,
   "metadata": {},
   "outputs": [
    {
     "name": "stdout",
     "output_type": "stream",
     "text": [
      "user_id     0\n",
      "anime_id    0\n",
      "rating      0\n",
      "dtype: int64\n"
     ]
    }
   ],
   "source": [
    "print(user.isnull().sum())"
   ]
  },
  {
   "cell_type": "code",
   "execution_count": 35,
   "metadata": {},
   "outputs": [
    {
     "data": {
      "text/plain": [
       "array([10,  8,  6,  9,  7,  3,  5,  4,  1,  2])"
      ]
     },
     "execution_count": 35,
     "metadata": {},
     "output_type": "execute_result"
    }
   ],
   "source": [
    "user = user[user[\"rating\"] != -1]\n",
    "user[\"rating\"].unique()"
   ]
  },
  {
   "cell_type": "markdown",
   "metadata": {},
   "source": [
    "### 중복값 제거(duplicated)"
   ]
  },
  {
   "cell_type": "code",
   "execution_count": 36,
   "metadata": {},
   "outputs": [],
   "source": [
    "user = user.drop_duplicates(['user_id', 'anime_id'])"
   ]
  },
  {
   "cell_type": "code",
   "execution_count": 37,
   "metadata": {},
   "outputs": [
    {
     "data": {
      "text/plain": [
       "(6337234, 3)"
      ]
     },
     "execution_count": 37,
     "metadata": {},
     "output_type": "execute_result"
    }
   ],
   "source": [
    "user.shape"
   ]
  },
  {
   "cell_type": "code",
   "execution_count": 38,
   "metadata": {},
   "outputs": [
    {
     "data": {
      "text/plain": [
       "955714"
      ]
     },
     "execution_count": 38,
     "metadata": {},
     "output_type": "execute_result"
    }
   ],
   "source": [
    "# 유저별 rating 분포 찍어보기\n",
    "user[user[\"rating\"] == 10].shape[0]"
   ]
  },
  {
   "cell_type": "code",
   "execution_count": 39,
   "metadata": {},
   "outputs": [
    {
     "data": {
      "text/plain": [
       "\"\\nrating = 1 :16649개\\nrating = 2 :23150개\\nrating = 3 :41453개\\nrating = 4 :104291개\\nrating = 5 :282806개\\nrating = 6: 637775개\\nrating = 7 : 1375287개\\nrating = 8 : 1646019개\\nrating = 9 : 1254096개\\nrating = 10 : 955715개'\\n\""
      ]
     },
     "execution_count": 39,
     "metadata": {},
     "output_type": "execute_result"
    }
   ],
   "source": [
    "'''\n",
    "rating = 1 :16649개\n",
    "rating = 2 :23150개\n",
    "rating = 3 :41453개\n",
    "rating = 4 :104291개\n",
    "rating = 5 :282806개\n",
    "rating = 6: 637775개\n",
    "rating = 7 : 1375287개\n",
    "rating = 8 : 1646019개\n",
    "rating = 9 : 1254096개\n",
    "rating = 10 : 955715개'\n",
    "'''"
   ]
  },
  {
   "cell_type": "code",
   "execution_count": 40,
   "metadata": {},
   "outputs": [
    {
     "data": {
      "image/png": "[encoded data removed]",
      "text/plain": [
       "<Figure size 1000x600 with 1 Axes>"
      ]
     },
     "metadata": {},
     "output_type": "display_data"
    }
   ],
   "source": [
    "# user별 rating 평균분포 \n",
    "rating_counts = user['rating'].value_counts().sort_index()\n",
    "\n",
    "rating_in_million = rating_counts / 1e6\n",
    "\n",
    "plt.figure(figsize=(10, 6))\n",
    "sns.barplot(x=rating_counts.index, y=rating_counts.values, color='#FF6F61')\n",
    "\n",
    "plt.title('유저별 평점 분포', fontsize=16)\n",
    "plt.xlabel('평점', fontsize=14)\n",
    "plt.ylabel('빈도(백만)', fontsize=14)\n",
    "\n",
    "# 각 막대 위에 값 추가 (백만 단위로 표시)\n",
    "for i, v in enumerate(rating_in_million.values):\n",
    "    plt.text(i, v + 0.02, f'{v:.2f}M', ha='center', va='bottom', fontsize=12)\n",
    "\n",
    "plt.show()"
   ]
  },
  {
   "cell_type": "markdown",
   "metadata": {},
   "source": [
    "데이터 merge"
   ]
  },
  {
   "cell_type": "code",
   "execution_count": 41,
   "metadata": {},
   "outputs": [],
   "source": [
    "df = pd.merge(user, anime, on='anime_id', how='inner')"
   ]
  },
  {
   "cell_type": "code",
   "execution_count": 48,
   "metadata": {},
   "outputs": [
    {
     "data": {
      "text/plain": [
       "(6337139, 7)"
      ]
     },
     "execution_count": 48,
     "metadata": {},
     "output_type": "execute_result"
    }
   ],
   "source": [
    "df.shape"
   ]
  },
  {
   "cell_type": "code",
   "execution_count": 42,
   "metadata": {},
   "outputs": [
    {
     "name": "stdout",
     "output_type": "stream",
     "text": [
      "<class 'pandas.core.frame.DataFrame'>\n",
      "RangeIndex: 6337139 entries, 0 to 6337138\n",
      "Data columns (total 9 columns):\n",
      " #   Column    Dtype  \n",
      "---  ------    -----  \n",
      " 0   user_id   int64  \n",
      " 1   anime_id  int64  \n",
      " 2   rating_x  int64  \n",
      " 3   name      object \n",
      " 4   genre     object \n",
      " 5   type      object \n",
      " 6   episodes  object \n",
      " 7   rating_y  float64\n",
      " 8   members   int64  \n",
      "dtypes: float64(1), int64(4), object(4)\n",
      "memory usage: 435.1+ MB\n",
      "user_id     0\n",
      "anime_id    0\n",
      "rating_x    0\n",
      "name        0\n",
      "genre       0\n",
      "type        0\n",
      "episodes    0\n",
      "rating_y    0\n",
      "members     0\n",
      "dtype: int64\n"
     ]
    }
   ],
   "source": [
    "# 합친 데이터의 info와 결측치 없는거 체크\n",
    "df.info()\n",
    "print(df.isnull().sum())"
   ]
  },
  {
   "cell_type": "code",
   "execution_count": 43,
   "metadata": {},
   "outputs": [
    {
     "data": {
      "text/html": [
       "<div>\n",
       "<style scoped>\n",
       "    .dataframe tbody tr th:only-of-type {\n",
       "        vertical-align: middle;\n",
       "    }\n",
       "\n",
       "    .dataframe tbody tr th {\n",
       "        vertical-align: top;\n",
       "    }\n",
       "\n",
       "    .dataframe thead th {\n",
       "        text-align: right;\n",
       "    }\n",
       "</style>\n",
       "<table border=\"1\" class=\"dataframe\">\n",
       "  <thead>\n",
       "    <tr style=\"text-align: right;\">\n",
       "      <th></th>\n",
       "      <th>user_id</th>\n",
       "      <th>anime_id</th>\n",
       "      <th>rating_x</th>\n",
       "      <th>name</th>\n",
       "      <th>genre</th>\n",
       "      <th>type</th>\n",
       "      <th>episodes</th>\n",
       "      <th>rating_y</th>\n",
       "      <th>members</th>\n",
       "    </tr>\n",
       "  </thead>\n",
       "  <tbody>\n",
       "    <tr>\n",
       "      <th>6337137</th>\n",
       "      <td>73516</td>\n",
       "      <td>790</td>\n",
       "      <td>9</td>\n",
       "      <td>Ergo Proxy</td>\n",
       "      <td>Mystery, Psychological, Sci-Fi</td>\n",
       "      <td>TV</td>\n",
       "      <td>23</td>\n",
       "      <td>8.03</td>\n",
       "      <td>265005</td>\n",
       "    </tr>\n",
       "    <tr>\n",
       "      <th>6337138</th>\n",
       "      <td>73516</td>\n",
       "      <td>8074</td>\n",
       "      <td>9</td>\n",
       "      <td>Highschool of the Dead</td>\n",
       "      <td>Action, Ecchi, Horror, Supernatural</td>\n",
       "      <td>TV</td>\n",
       "      <td>12</td>\n",
       "      <td>7.46</td>\n",
       "      <td>535892</td>\n",
       "    </tr>\n",
       "  </tbody>\n",
       "</table>\n",
       "</div>"
      ],
      "text/plain": [
       "         user_id  anime_id  rating_x                    name  \\\n",
       "6337137    73516       790         9              Ergo Proxy   \n",
       "6337138    73516      8074         9  Highschool of the Dead   \n",
       "\n",
       "                                       genre type episodes  rating_y  members  \n",
       "6337137       Mystery, Psychological, Sci-Fi   TV       23      8.03   265005  \n",
       "6337138  Action, Ecchi, Horror, Supernatural   TV       12      7.46   535892  "
      ]
     },
     "execution_count": 43,
     "metadata": {},
     "output_type": "execute_result"
    }
   ],
   "source": [
    "df.tail(2)"
   ]
  },
  {
   "cell_type": "code",
   "execution_count": 44,
   "metadata": {},
   "outputs": [
    {
     "data": {
      "text/html": [
       "<div>\n",
       "<style scoped>\n",
       "    .dataframe tbody tr th:only-of-type {\n",
       "        vertical-align: middle;\n",
       "    }\n",
       "\n",
       "    .dataframe tbody tr th {\n",
       "        vertical-align: top;\n",
       "    }\n",
       "\n",
       "    .dataframe thead th {\n",
       "        text-align: right;\n",
       "    }\n",
       "</style>\n",
       "<table border=\"1\" class=\"dataframe\">\n",
       "  <thead>\n",
       "    <tr style=\"text-align: right;\">\n",
       "      <th></th>\n",
       "      <th>user_id</th>\n",
       "      <th>anime_id</th>\n",
       "      <th>anime_rating</th>\n",
       "      <th>name</th>\n",
       "      <th>genre</th>\n",
       "      <th>type</th>\n",
       "      <th>episodes</th>\n",
       "      <th>user_rating</th>\n",
       "      <th>members</th>\n",
       "    </tr>\n",
       "  </thead>\n",
       "  <tbody>\n",
       "    <tr>\n",
       "      <th>0</th>\n",
       "      <td>1</td>\n",
       "      <td>8074</td>\n",
       "      <td>10</td>\n",
       "      <td>Highschool of the Dead</td>\n",
       "      <td>Action, Ecchi, Horror, Supernatural</td>\n",
       "      <td>TV</td>\n",
       "      <td>12</td>\n",
       "      <td>7.46</td>\n",
       "      <td>535892</td>\n",
       "    </tr>\n",
       "    <tr>\n",
       "      <th>1</th>\n",
       "      <td>1</td>\n",
       "      <td>11617</td>\n",
       "      <td>10</td>\n",
       "      <td>High School DxD</td>\n",
       "      <td>Comedy, Demons, Ecchi, Harem, Romance, School</td>\n",
       "      <td>TV</td>\n",
       "      <td>12</td>\n",
       "      <td>7.70</td>\n",
       "      <td>398660</td>\n",
       "    </tr>\n",
       "  </tbody>\n",
       "</table>\n",
       "</div>"
      ],
      "text/plain": [
       "   user_id  anime_id  anime_rating                    name  \\\n",
       "0        1      8074            10  Highschool of the Dead   \n",
       "1        1     11617            10         High School DxD   \n",
       "\n",
       "                                           genre type episodes  user_rating  \\\n",
       "0            Action, Ecchi, Horror, Supernatural   TV       12         7.46   \n",
       "1  Comedy, Demons, Ecchi, Harem, Romance, School   TV       12         7.70   \n",
       "\n",
       "   members  \n",
       "0   535892  \n",
       "1   398660  "
      ]
     },
     "execution_count": 44,
     "metadata": {},
     "output_type": "execute_result"
    }
   ],
   "source": [
    "# 컬럼이름 바꿔주기\n",
    "df.rename(columns={'rating_x': 'anime_rating', 'rating_y': 'user_rating'}, inplace=True)\n",
    "\n",
    "df.head(2)\n"
   ]
  },
  {
   "cell_type": "markdown",
   "metadata": {},
   "source": [
    "### 원핫인코딩 (NAME 및 GENRE 변환 다시 해봐야함)"
   ]
  },
  {
   "cell_type": "code",
   "execution_count": 45,
   "metadata": {},
   "outputs": [],
   "source": [
    "# 장르와 타입 모두 숫자로 인코딩\n",
    "from sklearn.preprocessing import LabelEncoder\n",
    "\n",
    "# genre 컬럼에 Label Encoding 적용\n",
    "le_genre = LabelEncoder()\n",
    "df['genre'] = le_genre.fit_transform(df['genre'])\n",
    "\n",
    "# type 컬럼에 Label Encoding 적용\n",
    "le_type = LabelEncoder()\n",
    "df['type'] = le_type.fit_transform(df['type'])"
   ]
  },
  {
   "cell_type": "code",
   "execution_count": 46,
   "metadata": {},
   "outputs": [],
   "source": [
    "# NaN 값 처리\n",
    "df = df.dropna()  # 또는 df.fillna(0)으로 결측치를 처리\n",
    "\n",
    "# 숫자 컬럼만 선택\n",
    "df = df.select_dtypes(include=['float64', 'int64'])"
   ]
  },
  {
   "cell_type": "code",
   "execution_count": 47,
   "metadata": {},
   "outputs": [
    {
     "data": {
      "image/png": "[encoded data removed]",
      "text/plain": [
       "<Figure size 1000x600 with 1 Axes>"
      ]
     },
     "metadata": {},
     "output_type": "display_data"
    }
   ],
   "source": [
    "# user_id별로 그룹화해서 rating의 평균을 계산\n",
    "group_user = user.groupby(['user_id']).mean().reset_index()\n",
    "group_user['mean_rating'] = group_user['rating']\n",
    "\n",
    "group_user.drop(['anime_id','rating'],axis=1, inplace=True)\n",
    "\n",
    "group_user.head(5)\n",
    "\n",
    "\n",
    "plt.figure(figsize=(10, 6))\n",
    "sns.histplot(group_user['mean_rating'], bins=50, kde=True, color='skyblue')\n",
    "\n",
    "plt.title('그룹화 후 유저별 평점 평균 분포', fontsize=16)\n",
    "plt.xlabel('평점', fontsize=14)\n",
    "plt.ylabel('빈도', fontsize=14)\n",
    "\n",
    "plt.show()\n"
   ]
  }
 ],
 "metadata": {
  "kernelspec": {
   "display_name": "pystudy_env",
   "language": "python",
   "name": "python3"
  },
  "language_info": {
   "codemirror_mode": {
    "name": "ipython",
    "version": 3
   },
   "file_extension": ".py",
   "mimetype": "text/x-python",
   "name": "python",
   "nbconvert_exporter": "python",
   "pygments_lexer": "ipython3",
   "version": "3.12.9"
  }
 },
 "nbformat": 4,
 "nbformat_minor": 2
}
